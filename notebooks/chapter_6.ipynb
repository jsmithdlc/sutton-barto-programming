{
 "cells": [
  {
   "cell_type": "code",
   "execution_count": 2,
   "id": "e9be2cb9",
   "metadata": {},
   "outputs": [],
   "source": [
    "import numpy as np\n",
    "import matplotlib.pyplot as plt"
   ]
  },
  {
   "cell_type": "markdown",
   "id": "09757cd2",
   "metadata": {},
   "source": [
    "## Windy Gridworld\n",
    "\n",
    "**Problem**: re-solve the windy gridworld assuming eight possible actions, including the diagonal moves, rather than four. How much better can you do with the extra actions? Can you do even better by including a ninth action that causes no movement at all other than that caused by the wind?\n",
    "\n",
    "First step would be to implement the base case and see if the result is similar to what is shown in the textbook"
   ]
  },
  {
   "cell_type": "markdown",
   "id": "600b7b48",
   "metadata": {},
   "source": [
    "### Example 6.5 Windy Gridworld\n",
    "\n",
    "Reach the goal from starting point. **Undiscounted** task with constant -1 rewards per time step until goal is reached.\n",
    "\n",
    "Action space: [`up`, `down`, `left`,`right`]\n",
    "\n",
    "State space: gridworld\n",
    "\n",
    "In the middle region there is an upwind wind that causes next states to be shifted upwards. The strength varies from column to column.\n",
    "\n",
    "Implement e-greedy SARSA. Consider $\\epsilon = 0.1$ and $\\alpha = 0.5$ and initial action-state values at 0. "
   ]
  },
  {
   "cell_type": "code",
   "execution_count": null,
   "id": "e9c0bb05",
   "metadata": {},
   "outputs": [],
   "source": [
    "class RaceTrackEnv:\n",
    "    def __init__(self, width, height, lanewidth):\n",
    "        self.rows = height\n",
    "        self.columns = width\n",
    "        self.lanewidth = lanewidth\n",
    "        self.racetrack = create_racetrack(height, width, lanewidth)\n",
    "        self.reset()\n",
    "\n",
    "    def _set_initial_state(self):\n",
    "        ...\n",
    "\n",
    "    def check_next_condition(self):\n",
    "        ...\n",
    "\n",
    "    def _update_last_state(self, row_acc, col_acc):\n",
    "        new_row_vel = self.last_state[2] + row_acc\n",
    "        new_col_vel = self.last_state[3] + col_acc\n",
    "        new_row = self.last_state[0] + new_row_vel\n",
    "        new_col = self.last_state[1] + new_col_vel\n",
    "        self.last_state = [new_row, new_col, new_row_vel, new_col_vel]\n",
    "\n",
    "    def reset(self):\n",
    "        self.last_state = self._set_initial_state()\n",
    "        return self.last_state\n",
    "\n",
    "    def step(self, action) -> tuple[tuple, int, bool]:\n",
    "        \"\"\"\n",
    "        return state, reward, done\n",
    "        \"\"\"\n",
    "        new_row_vel = self.last_state[2] + action[0]\n",
    "        new_col_vel = self.last_state[3] + action[1]\n",
    "        next_condition = check_next_condition(\n",
    "            self.last_state[0],\n",
    "            self.last_state[1],\n",
    "            self.last_state[2],\n",
    "            self.last_state[3],\n",
    "            self.racetrack\n",
    "        )\n",
    "        if next_condition == PossibleOutcomes.crash:\n",
    "            self.reset()\n",
    "            return self.last_state, -1, False\n",
    "        if next_condition == PossibleOutcomes.finish:\n",
    "            return self.last_state, 0, True\n",
    "        self._update_last_state(*action)\n",
    "        return self.last_state, -1, False"
   ]
  }
 ],
 "metadata": {
  "kernelspec": {
   "display_name": ".venv",
   "language": "python",
   "name": "python3"
  },
  "language_info": {
   "codemirror_mode": {
    "name": "ipython",
    "version": 3
   },
   "file_extension": ".py",
   "mimetype": "text/x-python",
   "name": "python",
   "nbconvert_exporter": "python",
   "pygments_lexer": "ipython3",
   "version": "3.12.9"
  }
 },
 "nbformat": 4,
 "nbformat_minor": 5
}
