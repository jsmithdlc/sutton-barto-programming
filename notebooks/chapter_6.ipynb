{
 "cells": [
  {
   "cell_type": "code",
   "execution_count": 1,
   "id": "e9be2cb9",
   "metadata": {},
   "outputs": [],
   "source": [
    "import numpy as np\n",
    "import matplotlib.pyplot as plt"
   ]
  },
  {
   "cell_type": "markdown",
   "id": "09757cd2",
   "metadata": {},
   "source": [
    "## Windy Gridworld\n",
    "\n",
    "**Problem**: re-solve the windy gridworld assuming eight possible actions, including the diagonal moves, rather than four. How much better can you do with the extra actions? Can you do even better by including a ninth action that causes no movement at all other than that caused by the wind?\n",
    "\n",
    "First step would be to implement the base case and see if the result is similar to what is shown in the textbook"
   ]
  },
  {
   "cell_type": "markdown",
   "id": "600b7b48",
   "metadata": {},
   "source": [
    "### Example 6.5 Windy Gridworld\n",
    "\n",
    "Reach the goal from starting point. **Undiscounted** task with constant -1 rewards per time step until goal is reached.\n",
    "\n",
    "Action space: [`up`, `down`, `left`,`right`]\n",
    "\n",
    "State space: gridworld\n",
    "\n",
    "In the middle region there is an upwind wind that causes next states to be shifted upwards. The strength varies from column to column.\n",
    "\n",
    "Implement e-greedy SARSA. Consider $\\epsilon = 0.1$ and $\\alpha = 0.5$ and initial action-state values at 0. "
   ]
  },
  {
   "cell_type": "code",
   "execution_count": 12,
   "id": "e9c0bb05",
   "metadata": {},
   "outputs": [],
   "source": [
    "import numpy as np\n",
    "import math\n",
    "\n",
    "def create_grid(n_rows:int, n_columns:int) -> np.ndarray:\n",
    "    return np.zeros((n_rows, n_columns), dtype = np.uint8)\n",
    "\n",
    "class WindyGridWorld:\n",
    "    \"\"\"\n",
    "    Action is in the form [left, up, right, down]\n",
    "    \"\"\"\n",
    "\n",
    "    def __init__(self, rows, columns, wind_col_range):\n",
    "        self.rows = rows\n",
    "        self.columns = columns\n",
    "        self.last_state = None\n",
    "        self.wind_col_range = wind_col_range\n",
    "        self.wind_magnitudes = self._setup_wind_magnitudes(wind_col_range)\n",
    "        self.grid = create_grid(rows, columns)\n",
    "        self.reset()\n",
    "\n",
    "    def _set_initial_state(self) -> tuple[int, int]:\n",
    "        return self.rows // 2, 0\n",
    "    \n",
    "    def _compute_new_state(self, state: tuple[int, int], action: tuple[bool, bool, bool, bool]) -> tuple[int, int]:\n",
    "        assert np.sum(action) == 1, \"Multiple direction displacements not permited\"\n",
    "        left, up, right, down = action\n",
    "        new_row = state[0] - up + down\n",
    "        new_col = state[1] - left + right\n",
    "        # upwind affects rows\n",
    "        if (new_col - self.wind_col_range[0] <= self.wind_col_range[1] - self.wind_col_range[0]\n",
    "            and new_col-self.wind_col_range[0] >= 0):\n",
    "            new_row = new_row - self.wind_magnitudes[\"wind_values\"][new_col - self]\n",
    "        return new_row, new_col\n",
    "\n",
    "\n",
    "    def _check_next_condition(self, new_row, new_col) -> bool:\n",
    "        if new_row >= self.rows or new_row < 0:\n",
    "            return False\n",
    "        if new_col >= self.columns or new_col < 0:\n",
    "            return False\n",
    "        return True\n",
    "    \n",
    "    def _setup_wind_magnitudes(self, windy_col_range: tuple[int, int]) -> dict[str, tuple[int]]:\n",
    "        min_col, max_col = windy_col_range\n",
    "        affected_cols = [c for c in range(min_col, max_col + 1)]\n",
    "        wind_magnitudes = [min(i+1, 3) for i in range((max_col-min_col) // 2)]\n",
    "        wind_magnitudes += wind_magnitudes[-2::-1]\n",
    "        return {\"columns\":affected_cols,\"wind_values\":wind_magnitudes}\n",
    "\n",
    "\n",
    "    def reset(self):\n",
    "        self.last_state = self._set_initial_state()\n",
    "        return self.last_state\n",
    "\n",
    "    def step(self, action: tuple[bool, bool, bool, bool]) -> tuple[tuple[int, int], int, bool]:\n",
    "        \"\"\"\n",
    "        return state, reward, done\n",
    "        \"\"\"\n",
    "        new_row, new_col = self._compute_new_state(self.last_state, action)\n",
    "        if not self._check_next_condition(new_row, new_col):\n",
    "            return self.last_state, 0, True\n",
    "        return (new_row, new_col), -1, False"
   ]
  },
  {
   "cell_type": "code",
   "execution_count": 13,
   "id": "7aad15e7",
   "metadata": {},
   "outputs": [
    {
     "data": {
      "image/png": "[encoded data removed]",
      "text/plain": [
       "<Figure size 640x480 with 1 Axes>"
      ]
     },
     "metadata": {},
     "output_type": "display_data"
    }
   ],
   "source": [
    "import matplotlib.pyplot as plt\n",
    "\n",
    "gridworld = WindyGridWorld(10,10,(1,5))\n",
    "plt.imshow(gridworld.grid)\n",
    "plt.show()"
   ]
  },
  {
   "cell_type": "code",
   "execution_count": null,
   "id": "bb4e7b15",
   "metadata": {},
   "outputs": [],
   "source": []
  }
 ],
 "metadata": {
  "kernelspec": {
   "display_name": ".venv",
   "language": "python",
   "name": "python3"
  },
  "language_info": {
   "codemirror_mode": {
    "name": "ipython",
    "version": 3
   },
   "file_extension": ".py",
   "mimetype": "text/x-python",
   "name": "python",
   "nbconvert_exporter": "python",
   "pygments_lexer": "ipython3",
   "version": "3.12.9"
  }
 },
 "nbformat": 4,
 "nbformat_minor": 5
}
