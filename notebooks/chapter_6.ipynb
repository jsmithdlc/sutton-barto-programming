{
 "cells": [
  {
   "cell_type": "code",
   "execution_count": 1,
   "id": "e9be2cb9",
   "metadata": {},
   "outputs": [],
   "source": [
    "import numpy as np\n",
    "import matplotlib.pyplot as plt"
   ]
  },
  {
   "cell_type": "markdown",
   "id": "09757cd2",
   "metadata": {},
   "source": [
    "## Windy Gridworld\n",
    "\n",
    "**Problem**: re-solve the windy gridworld assuming eight possible actions, including the diagonal moves, rather than four. How much better can you do with the extra actions? Can you do even better by including a ninth action that causes no movement at all other than that caused by the wind?\n",
    "\n",
    "First step would be to implement the base case and see if the result is similar to what is shown in the textbook"
   ]
  },
  {
   "cell_type": "markdown",
   "id": "600b7b48",
   "metadata": {},
   "source": [
    "### Example 6.5 Windy Gridworld\n",
    "\n",
    "Reach the goal from starting point. **Undiscounted** task with constant -1 rewards per time step until goal is reached.\n",
    "\n",
    "Action space: [`up`, `down`, `left`,`right`]\n",
    "\n",
    "State space: gridworld\n",
    "\n",
    "In the middle region there is an upwind wind that causes next states to be shifted upwards. The strength varies from column to column.\n",
    "\n",
    "Implement e-greedy SARSA. Consider $\\epsilon = 0.1$ and $\\alpha = 0.5$ and initial action-state values at 0. "
   ]
  },
  {
   "cell_type": "code",
   "execution_count": 206,
   "id": "e9c0bb05",
   "metadata": {},
   "outputs": [],
   "source": [
    "import numpy as np\n",
    "import math\n",
    "\n",
    "def create_grid(n_rows:int, n_columns:int) -> np.ndarray:\n",
    "    return np.zeros((n_rows, n_columns), dtype = np.uint8)\n",
    "\n",
    "class WindyGridWorld:\n",
    "    \"\"\"\n",
    "    Action is in the form [left, up, right, down]\n",
    "    \"\"\"\n",
    "\n",
    "    def __init__(self, rows, columns, wind_col_range):\n",
    "        self.rows = rows\n",
    "        self.columns = columns\n",
    "        self.last_state = None\n",
    "        self.wind_col_range = wind_col_range\n",
    "        self.max_wind_magnitude = 2\n",
    "        self.wind_magnitudes = self._setup_wind_magnitudes(wind_col_range)\n",
    "        self.goal = (rows//2, int(columns*3/4))\n",
    "        self.reset()\n",
    "\n",
    "    def _set_initial_state(self) -> tuple[int, int]:\n",
    "        return self.rows // 2, 0\n",
    "    \n",
    "    def _check_if_wind_affected(self, column: int)-> bool:\n",
    "        pos_rel_to_wind = column - self.wind_col_range[0]\n",
    "        if pos_rel_to_wind < 0 :\n",
    "            return False\n",
    "        if pos_rel_to_wind < self.wind_col_range[1] - self.wind_col_range[0]:\n",
    "            return True\n",
    "        return False\n",
    "\n",
    "    \n",
    "    def _compute_new_state(self, state: tuple[int, int], action: tuple[bool, bool, bool, bool]) -> tuple[int, int]:\n",
    "        assert np.sum(action) == 1, \"Multiple direction displacements not permited\"\n",
    "        left, up, right, down = action\n",
    "        new_row = state[0] - up + down\n",
    "        new_col = state[1] - left + right\n",
    "        # upwind affects rows\n",
    "        if (self._check_if_wind_affected(new_col)):\n",
    "            new_row = new_row - self.wind_magnitudes[\"wind_values\"][new_col - self.wind_col_range[0]]\n",
    "        new_row = max(0,min(new_row, self.rows-1))\n",
    "        new_col = max(0,min(new_col, self.columns-1))\n",
    "        return new_row, new_col\n",
    "\n",
    "\n",
    "    def _check_termination(self, new_row, new_col) -> bool:\n",
    "        return new_row == self.goal[0] and new_col == self.goal[1]\n",
    "\n",
    "    \n",
    "    def _setup_wind_magnitudes(self, windy_col_range: tuple[int, int]) -> dict[str, tuple[int]]:\n",
    "        min_col, max_col = windy_col_range\n",
    "        affected_cols = [c for c in range(min_col, max_col)]\n",
    "        wind_magnitudes = [min(i+1, self.max_wind_magnitude) for i in range(math.ceil((max_col-min_col) / 2))]\n",
    "        wind_magnitudes += wind_magnitudes[-1-(max_col-min_col)%2::-1]\n",
    "        return {\"columns\":affected_cols,\"wind_values\":wind_magnitudes}\n",
    "\n",
    "    def _update_grid_trayectory(self):\n",
    "        self.grid[*self.last_state] = 1\n",
    "\n",
    "    def plot_trayectory(self):\n",
    "        for col in self.wind_magnitudes['columns']:\n",
    "            plt.annotate(\"\", xytext=(col, self.rows-1), xy=(col, 0),\n",
    "            arrowprops=dict(arrowstyle=\"->\"))\n",
    "        plt.annotate(\"X\",xy=self.goal[::-1], color='red')\n",
    "        plt.imshow(self.grid, cmap='Accent')\n",
    "        plt.title(\"WindyGridWorld Trajectory\")\n",
    "        plt.show()\n",
    "\n",
    "    def reset(self):\n",
    "        self.grid = create_grid(self.rows, self.columns)\n",
    "        self.last_state = self._set_initial_state()\n",
    "        self._update_grid_trayectory()\n",
    "        return self.last_state\n",
    "\n",
    "    def step(self, action: tuple[bool, bool, bool, bool]) -> tuple[tuple[int, int], int, bool]:\n",
    "        \"\"\"\n",
    "        return state, reward, done\n",
    "        \"\"\"\n",
    "        new_row, new_col = self._compute_new_state(self.last_state, action)\n",
    "        if self._check_termination(new_row, new_col):\n",
    "            return self.last_state, 0, True\n",
    "        self.last_state = (new_row, new_col)\n",
    "        self._update_grid_trayectory()\n",
    "        return (new_row, new_col), -1, False"
   ]
  },
  {
   "cell_type": "code",
   "execution_count": 207,
   "id": "7aad15e7",
   "metadata": {},
   "outputs": [
    {
     "data": {
      "image/png": "[encoded data removed]",
      "text/plain": [
       "<Figure size 640x480 with 1 Axes>"
      ]
     },
     "metadata": {},
     "output_type": "display_data"
    }
   ],
   "source": [
    "gridworld = WindyGridWorld(25,25,(5,10))\n",
    "for i in range(25):\n",
    "    gridworld.step((0,0,1,0))\n",
    "gridworld.plot_trayectory()"
   ]
  },
  {
   "cell_type": "markdown",
   "id": "50b29005",
   "metadata": {},
   "source": [
    "## QFunction"
   ]
  },
  {
   "cell_type": "code",
   "execution_count": 212,
   "id": "bb4e7b15",
   "metadata": {},
   "outputs": [],
   "source": [
    "def build_state_key(state: tuple[int, int]) -> str:\n",
    "  return f\"{state[0]}_{state[1]}\"\n",
    "\n",
    "def init_action_space():\n",
    "  return [\n",
    "        (1,0,0,0),\n",
    "        (0,1,0,0),\n",
    "        (0,0,1,0),\n",
    "        (0,0,0,1)\n",
    "  ]\n",
    "\n",
    "def init_actions_for_state(state: tuple[int,int],  actions: list[tuple[bool]]) -> list[tuple[bool]]:\n",
    "    return actions\n",
    "\n",
    "class QFunction:\n",
    "  \"\"\"\n",
    "  Q value function for state\n",
    "  \"\"\"\n",
    "  def __init__(self, action_space: list[tuple[bool, bool, bool, bool]]):\n",
    "    self.values = {}\n",
    "    self.action_space = action_space\n",
    "\n",
    "  def _init_q_values(self, state):\n",
    "    valid_actions = init_actions_for_state(state, self.action_space)\n",
    "    action_values = [0 for _ in valid_actions]\n",
    "\n",
    "    self.values[build_state_key(state)] = {\n",
    "        \"actions\":valid_actions,\n",
    "        \"values\":action_values\n",
    "    }\n",
    "\n",
    "  def _get_action_id(self, actions, action):\n",
    "    for id, act in enumerate(actions):\n",
    "      same = sum([v1*v2 for (v1,v2) in zip(act,action)])\n",
    "      if same == 1:\n",
    "        return id\n",
    "      \n",
    "  def get_actions(self, state) -> list:\n",
    "    return self.values[build_state_key(state)][\"actions\"]\n",
    "\n",
    "\n",
    "  def get_max_action(self, state):\n",
    "    s_key = build_state_key(state)\n",
    "    if s_key not in self.values:\n",
    "      self._init_q_values(state)\n",
    "    actions = self.values[s_key][\"actions\"]\n",
    "    action_values = self.values[s_key][\"values\"]\n",
    "    return actions[np.argmax(action_values)]\n",
    "\n",
    "  def get_value(self, state, action):\n",
    "    s_key = build_state_key(state)\n",
    "    if s_key not in self.values:\n",
    "      self._init_q_values(state)\n",
    "    act_id = self._get_action_id(self.values[s_key][\"actions\"], action)\n",
    "    if act_id is None:\n",
    "      raise ValueError(f\"No action: {action} registered for state: {state}\")\n",
    "    return self.values[s_key][\"values\"][act_id]\n",
    "\n",
    "  def update(self, state, action, new_value):\n",
    "    s_key = build_state_key(state)\n",
    "    if s_key not in self.values:\n",
    "      self._init_q_values(state)\n",
    "    action_id = self._get_action_id(self.values[s_key][\"actions\"],action)\n",
    "    if action_id is None:\n",
    "      raise ValueError(f\"No action: {action} is recorded for state: {state}\")\n",
    "    self.values[s_key][\"values\"][action_id] = new_value\n"
   ]
  },
  {
   "cell_type": "code",
   "execution_count": 213,
   "id": "6f5b07d9",
   "metadata": {},
   "outputs": [
    {
     "data": {
      "text/plain": [
       "(1, 0, 0, 0)"
      ]
     },
     "execution_count": 213,
     "metadata": {},
     "output_type": "execute_result"
    }
   ],
   "source": [
    "test_q = QFunction(init_action_space())\n",
    "test_q.get_max_action((3,0))"
   ]
  },
  {
   "cell_type": "code",
   "execution_count": null,
   "id": "7af4bb8b",
   "metadata": {},
   "outputs": [],
   "source": [
    "import random\n",
    "\n",
    "def e_greedy_from_q(q:QFunction, state, epsilon):\n",
    "    action = q.get_max_action(state)\n",
    "    if random.random() <= epsilon:\n",
    "        actions = q.get_actions(state)\n",
    "        return random.choice(actions)\n",
    "    return action"
   ]
  },
  {
   "cell_type": "code",
   "execution_count": 222,
   "id": "078e7b53",
   "metadata": {},
   "outputs": [
    {
     "name": "stderr",
     "output_type": "stream",
     "text": [
      "100%|██████████| 100/100 [00:00<00:00, 25163.81it/s]\n"
     ]
    }
   ],
   "source": [
    "from tqdm import tqdm\n",
    "\n",
    "ALPHA = 0.5\n",
    "N_EPISODES = 100\n",
    "EPSILON = 0.1\n",
    "GAMMA = 1\n",
    "\n",
    "q_func = QFunction(init_action_space())\n",
    "windy_env = WindyGridWorld(7,10,(3,8))\n",
    "for i in tqdm(range(N_EPISODES)):\n",
    "    windy_env.reset()\n",
    "    s = windy_env.last_state\n",
    "    a = e_greedy_from_q(q_func, s, EPSILON)\n",
    "    s_p,r, terminate = windy_env.step(a)\n",
    "    if terminate:\n",
    "        continue\n",
    "    a_p = e_greedy_from_q(q_func, s_p, EPSILON)\n",
    "    new_q = q_func.get_value(s,a) + ALPHA*(r + 1*q_func.get_value(s_p, a_p) - q_func.get_value(s,a))\n",
    "    q_func.update(s, a, new_q)"
   ]
  }
 ],
 "metadata": {
  "kernelspec": {
   "display_name": ".venv",
   "language": "python",
   "name": "python3"
  },
  "language_info": {
   "codemirror_mode": {
    "name": "ipython",
    "version": 3
   },
   "file_extension": ".py",
   "mimetype": "text/x-python",
   "name": "python",
   "nbconvert_exporter": "python",
   "pygments_lexer": "ipython3",
   "version": "3.12.9"
  }
 },
 "nbformat": 4,
 "nbformat_minor": 5
}
