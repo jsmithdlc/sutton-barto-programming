{
 "cells": [
  {
   "cell_type": "markdown",
   "metadata": {},
   "source": [
    "## Exercise 2.5"
   ]
  },
  {
   "cell_type": "markdown",
   "metadata": {},
   "source": [
    "The first case using sample averages incrementally computed"
   ]
  },
  {
   "cell_type": "code",
   "execution_count": 118,
   "metadata": {},
   "outputs": [],
   "source": [
    "import numpy as np\n",
    "\n",
    "def sample_average(k: int, epsilon: float, n_steps: int, constant_step: float = None):\n",
    "    # action value and step initialized at 0\n",
    "    q_a = np.zeros(k,dtype=float)\n",
    "    n = np.zeros(k, dtype=float)\n",
    "\n",
    "    # reward distribution initialization\n",
    "    q_star = np.ones(k, dtype=float)*np.random.random()*3\n",
    "    q_delta_mean = 0\n",
    "    q_delta_stdev = 0.1\n",
    "\n",
    "    optimal_selections = []\n",
    "\n",
    "    for i in range(n_steps):\n",
    "        action =  np.argmax(q_a) if np.random.random() > epsilon else np.random.randint(0,k)\n",
    "        reward =  q_star[action]\n",
    "\n",
    "        if constant_step is not None:\n",
    "            alpha = constant_step\n",
    "        else:\n",
    "            n[action] = n[action] + 1\n",
    "            alpha = 1/n[action]\n",
    "        # update value function\n",
    "        q_a[action] = q_a[action] + (alpha)*(reward - q_a[action])\n",
    "        # shift lever\n",
    "        q_star = q_star + np.random.normal(q_delta_mean,q_delta_stdev,k)\n",
    "        # this is for plotting\n",
    "        was_optimal = int(action == np.argmax(q_star))\n",
    "        optimal_selections.append(was_optimal)\n",
    "    return optimal_selections"
   ]
  },
  {
   "cell_type": "code",
   "execution_count": 120,
   "metadata": {},
   "outputs": [],
   "source": [
    "import matplotlib.pyplot as plt\n",
    "\n",
    "n_runs = 500 # total number of experiments to run\n",
    "\n",
    "k = 10 # 10 armed bandit\n",
    "epsilon = 0.1 # e-greedy action selection\n",
    "n_steps = 10000\n",
    "\n",
    "incremental_exp_rewards  = np.zeros(n_steps)\n",
    "constant_exp_rewards = np.zeros(n_steps)\n",
    "for _ in range(n_runs):\n",
    "    incremental_exp_rewards += sample_average(k,epsilon,n_steps)\n",
    "    constant_exp_rewards += sample_average(k,epsilon,n_steps,constant_step=0.1)\n",
    "\n",
    "\n",
    "incremental_exp_rewards /= n_runs\n",
    "constant_exp_rewards /= n_runs\n",
    "\n",
    "fig = plt.figure(figsize=(8,6))\n",
    "plt.plot(np.arange(0,n_steps),incremental_exp_rewards)\n",
    "plt.plot(np.arange(0,n_steps),constant_exp_rewards, color='r')\n",
    "plt.xlabel('step')\n",
    "plt.ylabel('optimal action (%)')\n",
    "plt.show()"
   ]
  },
  {
   "cell_type": "code",
   "execution_count": null,
   "metadata": {},
   "outputs": [],
   "source": []
  }
 ],
 "metadata": {
  "kernelspec": {
   "display_name": "rl-experiments-r-JsmOJR-py3.10",
   "language": "python",
   "name": "python3"
  },
  "language_info": {
   "codemirror_mode": {
    "name": "ipython",
    "version": 3
   },
   "file_extension": ".py",
   "mimetype": "text/x-python",
   "name": "python",
   "nbconvert_exporter": "python",
   "pygments_lexer": "ipython3",
   "version": "3.10.12"
  }
 },
 "nbformat": 4,
 "nbformat_minor": 2
}
